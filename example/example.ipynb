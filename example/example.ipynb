{
 "cells": [
  {
   "cell_type": "code",
   "execution_count": null,
   "id": "e14582c3",
   "metadata": {},
   "outputs": [],
   "source": [
    "from pathlib import Path\n",
    "\n",
    "data_dir = Path.cwd() / \"data\" / \"uncompressed\"\n",
    "dir_mapping = {\n",
    "    \"eicu\": data_dir / \"eicu-crd\" / \"2.0\",\n",
    "    \"mimic\": data_dir / \"mimiciv\" / \"3.1\"\n",
    "}\n",
    "output_dir = Path.cwd() / \"output\""
   ]
  },
  {
   "cell_type": "code",
   "execution_count": null,
   "id": "50312ecf",
   "metadata": {},
   "outputs": [],
   "source": [
    "from open_icu.meds.project import MEDSProject\n",
    "\n",
    "project = MEDSProject(\n",
    "    project_path=output_dir,\n",
    "    overwrite=True,\n",
    ")\n",
    "project.write_metadata({})"
   ]
  },
  {
   "cell_type": "code",
   "execution_count": null,
   "id": "5d6936da",
   "metadata": {},
   "outputs": [],
   "source": [
    "from open_icu.config.utils import load_yaml_configs\n",
    "from open_icu.config.source import SourceConfig\n",
    "\n",
    "configs = load_yaml_configs(Path.cwd().parent / \"configs\" / \"source\", SourceConfig)\n",
    "configs"
   ]
  },
  {
   "cell_type": "code",
   "execution_count": null,
   "id": "fb209c9e",
   "metadata": {},
   "outputs": [],
   "source": [
    "from open_icu.meds.processor import process_table\n",
    "\n",
    "for config in configs:\n",
    "    for table in config.tables:\n",
    "        process_table(\n",
    "            table,\n",
    "            dir_mapping.get(config.name),\n",
    "            output_dir,\n",
    "            config.name,\n",
    "        )"
   ]
  },
  {
   "cell_type": "code",
   "execution_count": null,
   "id": "f7ea7f34",
   "metadata": {},
   "outputs": [],
   "source": [
    "import polars as pl\n",
    "\n",
    "for config in configs:\n",
    "    for table in config.tables:\n",
    "        for event in table.events:\n",
    "            df = pl.scan_parquet(output_dir / \"data\" / config.name / table.name / f\"{event.name}.parquet\")\n",
    "            print(f\"{config.name} - {table.name} - {event.name}: {df.select(pl.len()).collect().item()}\")"
   ]
  },
  {
   "cell_type": "code",
   "execution_count": null,
   "id": "cf3bda01",
   "metadata": {},
   "outputs": [],
   "source": [
    "pl.scan_parquet(output_dir / \"metadata\" / \"codes.parquet\").head().collect()"
   ]
  },
  {
   "cell_type": "code",
   "execution_count": null,
   "id": "62a1cdc5",
   "metadata": {},
   "outputs": [],
   "source": [
    "pl.scan_parquet(output_dir / \"data\" / \"mimic\" / \"chartevents\" / \"chartevent.parquet\").head(5).collect()"
   ]
  }
 ],
 "metadata": {
  "kernelspec": {
   "display_name": "open-icu (3.13.8)",
   "language": "python",
   "name": "python3"
  },
  "language_info": {
   "codemirror_mode": {
    "name": "ipython",
    "version": 3
   },
   "file_extension": ".py",
   "mimetype": "text/x-python",
   "name": "python",
   "nbconvert_exporter": "python",
   "pygments_lexer": "ipython3",
   "version": "3.13.8"
  }
 },
 "nbformat": 4,
 "nbformat_minor": 5
}
