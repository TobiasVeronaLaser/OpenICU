{
 "cells": [
  {
   "cell_type": "code",
   "execution_count": null,
   "id": "f2104488",
   "metadata": {},
   "outputs": [],
   "source": [
    "from pathlib import Path\n",
    "\n",
    "data_dir = Path.cwd() / \"data\" / \"uncompressed\"\n",
    "\n",
    "mimiic_dir = data_dir / \"mimiciv\" / \"3.1\"\n",
    "eicu_dir = data_dir / \"eicu-crd\" / \"2.0\""
   ]
  },
  {
   "cell_type": "code",
   "execution_count": null,
   "id": "e9b1307f",
   "metadata": {},
   "outputs": [],
   "source": [
    "import pandas as pd\n",
    "import dask\n",
    "\n",
    "pd.options.mode.string_storage = \"pyarrow\"\n",
    "dask.config.set({\"dataframe.convert-string\": True})"
   ]
  },
  {
   "cell_type": "code",
   "execution_count": null,
   "id": "686a9938",
   "metadata": {},
   "outputs": [],
   "source": [
    "import dask.dataframe as dd\n",
    "\n",
    "from dask.distributed import Client\n",
    "\n",
    "client = Client(n_workers=6)\n",
    "client"
   ]
  },
  {
   "cell_type": "code",
   "execution_count": null,
   "id": "009acd10",
   "metadata": {},
   "outputs": [],
   "source": [
    "from open_icu.config.utils import load_yaml_configs\n",
    "from open_icu.config.source import SourceConfig\n",
    "\n",
    "configs = load_yaml_configs(Path.cwd().parent / \"configs\" / \"source\", SourceConfig)\n",
    "configs"
   ]
  },
  {
   "cell_type": "code",
   "execution_count": null,
   "id": "caeac307",
   "metadata": {},
   "outputs": [],
   "source": [
    "from open_icu.meds.processor import process_table\n",
    "\n",
    "process_table(configs[0].tables[0], mimiic_dir, Path.cwd() / \"output\")"
   ]
  },
  {
   "cell_type": "code",
   "execution_count": null,
   "id": "72fc6531",
   "metadata": {},
   "outputs": [],
   "source": [
    "import dask.dataframe as dd\n",
    "from pathlib import Path\n",
    "\n",
    "df = dd.read_parquet(Path.cwd() / \"output\" / \"data\" / \"medications_dosage_0.parquet\").head()\n",
    "df"
   ]
  },
  {
   "cell_type": "code",
   "execution_count": null,
   "id": "b1ae0440",
   "metadata": {},
   "outputs": [],
   "source": [
    "import dask.dataframe as dd\n",
    "from pathlib import Path\n",
    "\n",
    "dd.read_parquet(Path.cwd() / \"output\" / \"data\" / \"medications_rate_0.parquet\").head(20)"
   ]
  },
  {
   "cell_type": "code",
   "execution_count": null,
   "id": "a1149e3a",
   "metadata": {},
   "outputs": [],
   "source": [
    "df = dd.read_parquet(Path.cwd() / \"output\" / \"metadata\" / \"codes.parquet\").compute()\n",
    "df"
   ]
  },
  {
   "cell_type": "code",
   "execution_count": null,
   "id": "a405c046",
   "metadata": {},
   "outputs": [],
   "source": []
  }
 ],
 "metadata": {
  "kernelspec": {
   "display_name": "open-icu (3.13.7)",
   "language": "python",
   "name": "python3"
  },
  "language_info": {
   "codemirror_mode": {
    "name": "ipython",
    "version": 3
   },
   "file_extension": ".py",
   "mimetype": "text/x-python",
   "name": "python",
   "nbconvert_exporter": "python",
   "pygments_lexer": "ipython3",
   "version": "3.13.7"
  }
 },
 "nbformat": 4,
 "nbformat_minor": 5
}
