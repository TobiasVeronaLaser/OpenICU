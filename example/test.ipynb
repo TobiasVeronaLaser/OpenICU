{
 "cells": [
  {
   "cell_type": "code",
   "execution_count": null,
   "id": "b9deda5e",
   "metadata": {},
   "outputs": [],
   "source": [
    "from pathlib import Path\n",
    "\n",
    "data_dir = Path.cwd() / \"data\" / \"uncompressed\"\n",
    "\n",
    "mimiic_dir = data_dir / \"mimiciv\" / \"3.1\"\n",
    "eicu_dir = data_dir / \"eicu-crd\" / \"2.0\""
   ]
  },
  {
   "cell_type": "markdown",
   "id": "9b90fead",
   "metadata": {},
   "source": []
  },
  {
   "cell_type": "code",
   "execution_count": null,
   "id": "604b0ee7",
   "metadata": {},
   "outputs": [],
   "source": [
    "from dask.distributed import Client\n",
    "\n",
    "client = Client()\n",
    "client"
   ]
  },
  {
   "cell_type": "code",
   "execution_count": null,
   "id": "7a6802f3",
   "metadata": {},
   "outputs": [],
   "source": [
    "import dask.dataframe as dd\n",
    "\n",
    "inputevents_df = dd.read_csv(mimiic_dir / \"icu\" / \"inputevents.csv\", assume_missing=True)\n",
    "itemids_df = dd.read_csv(mimiic_dir / \"icu\" / \"d_items.csv\", assume_missing=True)\n",
    "\n",
    "mimic_df = inputevents_df.merge(itemids_df, on=[\"itemid\"], how=\"left\")\n",
    "mimic_df.head()"
   ]
  },
  {
   "cell_type": "code",
   "execution_count": null,
   "id": "64bff09c",
   "metadata": {},
   "outputs": [],
   "source": [
    "chartevents_df = dd.read_csv(mimiic_dir / \"icu\" / \"chartevents.csv\", assume_missing=True)\n",
    "mimic_df = chartevents_df.merge(itemids_df, on=[\"itemid\"], how=\"left\")\n",
    "mimic_df.head()"
   ]
  },
  {
   "cell_type": "code",
   "execution_count": null,
   "id": "d8bae08f",
   "metadata": {},
   "outputs": [],
   "source": [
    "icu_stays_df = dd.read_csv(mimiic_dir / \"icu\" / \"icustays.csv\", assume_missing=True)\n",
    "icu_stays_df.head()"
   ]
  },
  {
   "cell_type": "code",
   "execution_count": null,
   "id": "ef20b7c5",
   "metadata": {},
   "outputs": [],
   "source": [
    "medication_df = dd.read_csv(eicu_dir / \"medication.csv\", assume_missing=True)\n",
    "medication_df.head()"
   ]
  }
 ],
 "metadata": {
  "kernelspec": {
   "display_name": "open-icu (3.13.7)",
   "language": "python",
   "name": "python3"
  },
  "language_info": {
   "codemirror_mode": {
    "name": "ipython",
    "version": 3
   },
   "file_extension": ".py",
   "mimetype": "text/x-python",
   "name": "python",
   "nbconvert_exporter": "python",
   "pygments_lexer": "ipython3",
   "version": "3.13.7"
  }
 },
 "nbformat": 4,
 "nbformat_minor": 5
}
