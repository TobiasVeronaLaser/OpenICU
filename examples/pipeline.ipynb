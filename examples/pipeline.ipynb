{
 "cells": [
  {
   "cell_type": "code",
   "execution_count": 1,
   "metadata": {},
   "outputs": [],
   "source": [
    "from pathlib import Path\n",
    "\n",
    "from open_icu.step import (\n",
    "    SourceStep,\n",
    ")\n"
   ]
  },
  {
   "cell_type": "code",
   "execution_count": 2,
   "metadata": {},
   "outputs": [
    {
     "name": "stdout",
     "output_type": "stream",
     "text": [
      "<open_icu.db.sql.SQLDataFrameDatabaseExtractor object at 0x7feeacb238c0>\n",
      "id='16147418' source='mimic' data={}\n"
     ]
    }
   ],
   "source": [
    "config_path = Path.cwd().parent / \"definitions\"\n",
    "example_config_path = Path.cwd() / \"definitions\"\n",
    "sink_oath = Path.cwd() / \"output\"\n",
    "\n",
    "pipeline = (\n",
    "    SourceStep(source_configs=example_config_path / \"sources\")\n",
    ")\n",
    "\n",
    "for subject_data in pipeline():\n",
    "    d = subject_data\n",
    "    print(d)\n",
    "    break"
   ]
  },
  {
   "cell_type": "code",
   "execution_count": 3,
   "metadata": {},
   "outputs": [
    {
     "data": {
      "text/plain": [
       "dict_keys([])"
      ]
     },
     "execution_count": 3,
     "metadata": {},
     "output_type": "execute_result"
    }
   ],
   "source": [
    "d.data.keys()"
   ]
  }
 ],
 "metadata": {
  "kernelspec": {
   "display_name": ".venv",
   "language": "python",
   "name": "python3"
  },
  "language_info": {
   "codemirror_mode": {
    "name": "ipython",
    "version": 3
   },
   "file_extension": ".py",
   "mimetype": "text/x-python",
   "name": "python",
   "nbconvert_exporter": "python",
   "pygments_lexer": "ipython3",
   "version": "3.13.1"
  }
 },
 "nbformat": 4,
 "nbformat_minor": 2
}
