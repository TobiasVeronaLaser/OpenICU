{
 "cells": [
  {
   "cell_type": "code",
   "execution_count": null,
   "metadata": {},
   "outputs": [],
   "source": [
    "from pathlib import Path\n",
    "\n",
    "from open_icu.step import (\n",
    "    SourceStep,\n",
    "    ConceptStep,\n",
    "    UnitConversionStep,\n",
    ")\n"
   ]
  },
  {
   "cell_type": "code",
   "execution_count": null,
   "metadata": {},
   "outputs": [],
   "source": [
    "config_path = Path.cwd().parent / \"definitions\"\n",
    "example_config_path = Path.cwd() / \"definitions\"\n",
    "sink_oath = Path.cwd() / \"output\"\n",
    "\n",
    "pipeline = (\n",
    "    SourceStep(source_configs=example_config_path / \"sources\")\n",
    "    >> ConceptStep(concept_configs=example_config_path / \"concepts\")\n",
    "    >> UnitConversionStep(unit_configs=config_path / \"units\", concept_configs=example_config_path / \"concepts\")\n",
    ")\n",
    "\n",
    "for subject_data in pipeline():\n",
    "    d = subject_data\n",
    "    # print(d)\n",
    "    break"
   ]
  },
  {
   "cell_type": "code",
   "execution_count": null,
   "metadata": {},
   "outputs": [],
   "source": [
    "d.data.keys()"
   ]
  },
  {
   "cell_type": "code",
   "execution_count": null,
   "metadata": {},
   "outputs": [],
   "source": [
    "d.data[\"BodyWeight\"]"
   ]
  },
  {
   "cell_type": "code",
   "execution_count": null,
   "metadata": {},
   "outputs": [],
   "source": []
  }
 ],
 "metadata": {
  "kernelspec": {
   "display_name": ".venv",
   "language": "python",
   "name": "python3"
  },
  "language_info": {
   "codemirror_mode": {
    "name": "ipython",
    "version": 3
   },
   "file_extension": ".py",
   "mimetype": "text/x-python",
   "name": "python",
   "nbconvert_exporter": "python",
   "pygments_lexer": "ipython3",
   "version": "3.13.1"
  }
 },
 "nbformat": 4,
 "nbformat_minor": 2
}
