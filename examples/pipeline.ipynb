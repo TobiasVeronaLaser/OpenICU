{
 "cells": [
  {
   "cell_type": "code",
   "execution_count": null,
   "metadata": {},
   "outputs": [],
   "source": [
    "from pathlib import Path\n",
    "\n",
    "from open_icu.step import (\n",
    "    SourceStep,\n",
    "    ConceptStep,\n",
    "    UnitConversionStep,\n",
    "    CohortFilterStep,\n",
    "    SubjectPreprocessingStep,\n",
    "    CSVSinkStep,\n",
    ")\n"
   ]
  },
  {
   "cell_type": "code",
   "execution_count": null,
   "metadata": {},
   "outputs": [],
   "source": [
    "config_path = Path.cwd().parent / \"definitions\"\n",
    "example_config_path = Path.cwd() / \"definitions\"\n",
    "sink_path = Path.cwd() / \"output\"\n",
    "\n",
    "pipeline = (\n",
    "    SourceStep(source_configs=example_config_path / \"sources\")\n",
    "    >> ConceptStep(concept_configs=example_config_path / \"concepts\")\n",
    "    >> UnitConversionStep(unit_configs=config_path / \"units\", concept_configs=example_config_path / \"concepts\")\n",
    "    >> CohortFilterStep(cohort_configs=config_path / \"cohort\")\n",
    "    >> SubjectPreprocessingStep(preprocessor_configs=config_path / \"preprocessors\")\n",
    "    >> CSVSinkStep(sink_path=sink_path)\n",
    ")\n",
    "\n",
    "for subject_data in pipeline():\n",
    "    d = subject_data\n",
    "    # print(d)\n",
    "    break"
   ]
  },
  {
   "cell_type": "code",
   "execution_count": null,
   "metadata": {},
   "outputs": [],
   "source": [
    "d.data.keys()"
   ]
  },
  {
   "cell_type": "code",
   "execution_count": null,
   "metadata": {},
   "outputs": [],
   "source": [
    "d.data[\"ICUEncounter\"]"
   ]
  },
  {
   "cell_type": "code",
   "execution_count": null,
   "metadata": {},
   "outputs": [],
   "source": []
  }
 ],
 "metadata": {
  "kernelspec": {
   "display_name": ".venv",
   "language": "python",
   "name": "python3"
  },
  "language_info": {
   "codemirror_mode": {
    "name": "ipython",
    "version": 3
   },
   "file_extension": ".py",
   "mimetype": "text/x-python",
   "name": "python",
   "nbconvert_exporter": "python",
   "pygments_lexer": "ipython3",
   "version": "3.13.1"
  }
 },
 "nbformat": 4,
 "nbformat_minor": 2
}
