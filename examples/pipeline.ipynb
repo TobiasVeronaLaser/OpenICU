{
 "cells": [
  {
   "cell_type": "code",
   "execution_count": 1,
   "metadata": {},
   "outputs": [],
   "source": [
    "from pathlib import Path\n",
    "\n",
    "from open_icu.steps import (\n",
    "    SourceStep,\n",
    "    UnitConversionStep,\n",
    "    CohortStep,\n",
    "    SubjectPreprocessingStep,\n",
    "    SinkStep,\n",
    ")"
   ]
  },
  {
   "cell_type": "code",
   "execution_count": null,
   "metadata": {},
   "outputs": [],
   "source": [
    "config_path = Path.cwd().parent / \"definitions\"\n",
    "\n",
    "pipeline = (\n",
    "    SourceStep(config_path=config_path)\n",
    "    >> UnitConversionStep(config_path=config_path)\n",
    "    >> CohortStep(config_path=config_path)\n",
    "    >> SubjectPreprocessingStep(config_path=config_path)\n",
    "    >> SinkStep(config_path=config_path)\n",
    ")\n",
    "\n",
    "for subject_data in pipeline():\n",
    "    print(subject_data)\n",
    "    break"
   ]
  },
  {
   "cell_type": "code",
   "execution_count": null,
   "metadata": {},
   "outputs": [],
   "source": []
  }
 ],
 "metadata": {
  "kernelspec": {
   "display_name": ".venv",
   "language": "python",
   "name": "python3"
  },
  "language_info": {
   "codemirror_mode": {
    "name": "ipython",
    "version": 3
   },
   "file_extension": ".py",
   "mimetype": "text/x-python",
   "name": "python",
   "nbconvert_exporter": "python",
   "pygments_lexer": "ipython3",
   "version": "3.13.1"
  }
 },
 "nbformat": 4,
 "nbformat_minor": 2
}
