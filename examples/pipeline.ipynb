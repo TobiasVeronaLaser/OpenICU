{
 "cells": [
  {
   "cell_type": "code",
   "execution_count": 1,
   "metadata": {},
   "outputs": [],
   "source": [
    "from pathlib import Path\n",
    "\n",
    "from open_icu.step import (\n",
    "    SourceStep,\n",
    "    ConceptStep,\n",
    ")\n"
   ]
  },
  {
   "cell_type": "code",
   "execution_count": 4,
   "metadata": {},
   "outputs": [],
   "source": [
    "config_path = Path.cwd().parent / \"definitions\"\n",
    "example_config_path = Path.cwd() / \"definitions\"\n",
    "sink_oath = Path.cwd() / \"output\"\n",
    "\n",
    "pipeline = (\n",
    "    SourceStep(source_configs=example_config_path / \"sources\")\n",
    "    >> ConceptStep(concept_configs=config_path / \"concepts\")\n",
    ")\n",
    "\n",
    "for subject_data in pipeline():\n",
    "    d = subject_data\n",
    "    # print(d)\n",
    "    break"
   ]
  },
  {
   "cell_type": "code",
   "execution_count": 5,
   "metadata": {},
   "outputs": [
    {
     "data": {
      "text/plain": [
       "dict_keys(['SystolicBloodPressure', 'BodyWeight', 'ICUEncounter', 'UrineVolume', 'Creatinine_absolute_serum'])"
      ]
     },
     "execution_count": 5,
     "metadata": {},
     "output_type": "execute_result"
    }
   ],
   "source": [
    "d.data.keys()"
   ]
  },
  {
   "cell_type": "code",
   "execution_count": null,
   "metadata": {},
   "outputs": [],
   "source": []
  }
 ],
 "metadata": {
  "kernelspec": {
   "display_name": ".venv",
   "language": "python",
   "name": "python3"
  },
  "language_info": {
   "codemirror_mode": {
    "name": "ipython",
    "version": 3
   },
   "file_extension": ".py",
   "mimetype": "text/x-python",
   "name": "python",
   "nbconvert_exporter": "python",
   "pygments_lexer": "ipython3",
   "version": "3.13.1"
  }
 },
 "nbformat": 4,
 "nbformat_minor": 2
}
